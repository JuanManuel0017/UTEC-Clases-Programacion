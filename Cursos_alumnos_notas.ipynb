{
  "nbformat": 4,
  "nbformat_minor": 0,
  "metadata": {
    "colab": {
      "provenance": [],
      "authorship_tag": "ABX9TyO9LGU5xg0RDLAqdj1YsAEn",
      "include_colab_link": true
    },
    "kernelspec": {
      "name": "python3",
      "display_name": "Python 3"
    },
    "language_info": {
      "name": "python"
    }
  },
  "cells": [
    {
      "cell_type": "markdown",
      "metadata": {
        "id": "view-in-github",
        "colab_type": "text"
      },
      "source": [
        "<a href=\"https://colab.research.google.com/github/JuanManuel0017/UTEC-Clases-Programacion/blob/main/Cursos_alumnos_notas.ipynb\" target=\"_parent\"><img src=\"https://colab.research.google.com/assets/colab-badge.svg\" alt=\"Open In Colab\"/></a>"
      ]
    },
    {
      "cell_type": "code",
      "execution_count": null,
      "metadata": {
        "id": "UyY2ssWNQN-n"
      },
      "outputs": [],
      "source": [
        "\n",
        "#Ingresando cantidad de cursos y cursos por ciclo\n",
        "\n",
        "ncursos = int(input('\\nIngresar numero de cursos del presente ciclo de estudios : '))\n",
        "cursos = []\n",
        "codcur = []\n",
        "credcur = []\n",
        "for i in range(ncursos):\n",
        "  codcur.append(input(f'\\nIngrese el codigo de curso {i+1} : '))\n",
        "  cursos.append(input(f'\\nIngrese el nombre del curso {i+1} : '))\n",
        "  credcur.append(int(input(f'\\nIngrese credito del curso {i+1} : ')))\n",
        "\n",
        "print(\"CODIGO\\tCURSO\\tCREDITOS\")\n",
        "for i in range(ncursos):\n",
        "  print(f'{codcur[i]} \\t{cursos[i]}\\t{credcur[i]}')\n",
        "\n",
        "\n"
      ]
    },
    {
      "cell_type": "code",
      "source": [
        "#Ingresando Alumnos por curso\n",
        "\n",
        "\n",
        "nalumnos_1 = int(input(f'Ingrese cantidad de alumnoa matriculados en el curso de {cursos[i]} : '))"
      ],
      "metadata": {
        "id": "4bd_kg-drMLP"
      },
      "execution_count": null,
      "outputs": []
    },
    {
      "cell_type": "code",
      "source": [],
      "metadata": {
        "id": "zHOyU4VJWoPX"
      },
      "execution_count": null,
      "outputs": []
    },
    {
      "cell_type": "code",
      "source": [
        "# Menu Principal\n",
        "\n",
        "print(\"MENU PRINCIPAL\")\n",
        "print(\"===============\\n\")\n",
        "print(\"1. CURSOS\\n2. ALUMNOS\\n3. NOTAS\\n4. REPORTES\\n5. SALIR\")\n",
        "op1 = int(input('\\nSelecciona una opcion entre [1-5] : '))\n",
        "#Opciones de menu principal\n",
        "if op1 == 1:\n",
        "  print(\"\\nMENU CURSOS\")\n",
        "  print(\"===============\\n\")\n",
        "  print(\"1. REGISTRAR CURSOS\\n2. MODIFICAR CURSOS\\n3. ELIMINAR CURSOS\\n4. REPORTE DE CURSOS\\n5. SALIR\")\n",
        "  #condicionales de opciones del menu cursos\n",
        "  opcurso = int(input('\\nSelecciona una opcion entre [1-5] : '))\n",
        "  if opcurso == 1:\n",
        "    #agregando codigos, creditos y cursos a las listas\n",
        "    if cursos[0] != []:\n",
        "      print(\"\\n Lo sentimos, no puedes registrar cursos en el presente ciclo, porque ya existen cursos registrados, gracias!!\")\n",
        "    else:\n",
        "      ncursos = int(input('\\nIngresar numero de cursos del presente ciclo de estudios : '))\n",
        "      cursos = []\n",
        "      codcur = []\n",
        "      credcur = []\n",
        "      for i in range(ncursos):\n",
        "        codcur.append(input(f'\\nIngrese el codigo de curso {i+1} : '))\n",
        "        cursos.append(input(f'\\nIngrese el nombre del curso {i+1} : '))\n",
        "        credcur.append(int(input(f'\\nIngrese credito del curso {i+1} : ')))\n",
        "\n",
        "      print('Los cursos fueron registrados con exito!!!')\n",
        "\n",
        "  if opcurso ==2:\n",
        "    #modificando codigos creditos y cursos de las listas\n",
        "    modificar = input(\"\\nIngrese el codigo del curso que desea modificar : \")\n",
        "    contmod = 0\n",
        "    for i in range(len(codcur)):\n",
        "      if codcur[i] == modificar:\n",
        "        codcur[i] = input(\"\\nIngrese el nuevo codigo : \")\n",
        "        credcur[i] = int(input(\"Ingrese el nuevo credito : \"))\n",
        "        cursos[i] = input(\"Ingrese el nombre del nuevo curso : \")\n",
        "      else:\n",
        "        contmod +=1\n",
        "    if contmod == len(codcur)-1:\n",
        "      print(\"\\nSe modifico el curso con exito !!!\")\n",
        "    else:\n",
        "      print(\"\\nEl codigo ingresado, no se encuentra registrado...\")\n",
        "\n",
        "  if opcurso ==3:\n",
        "    #Eliminando cursos de las listas\n",
        "\n",
        "\n",
        "\n",
        "if op1 == 2:\n",
        "  print(\"\\nMENU ALUMNOS\")\n",
        "  print(\"===============\\n\")\n",
        "  print(\"1. REGISTRAR ALIUMNOS\\n2. MODIFICAR ALUMNOS\\n3. ELIMINAR ALUMNOS\\n4. REPORTE DE ALUMNOS POR CURSO\\n5. SALIR\")\n",
        "  opalumnos = int(input('\\nSelecciona una opcion entre [1-5] : '))\n",
        "\n",
        "if op1 == 3:\n",
        "  print(\"\\nMENU NOTAS\")\n",
        "  print(\"===============\\n\")\n",
        "  print(\"1. REGISTRAR NOTAS POR CURSO\\n2. MODIFICAR NOTAS\\n3. ELIMINAR NOTAS\\n4. REPORTE DE PROMEDIO FINAL POR ALUMNO\\n5. SALIR\")\n",
        "  opnotas = int(input('\\nSelecciona una opcion entre [1-5] : '))\n",
        "\n",
        "if op1 == 4:\n",
        "  print(\"\\nMENU REPORTE\")\n",
        "  print(\"===============\\n\")\n",
        "  print(\"1. GENERAR REPORTE DE CURSOS\\n2. GENERAR REPORTE DE ALUMNOS\\n3. GENERAR REPORTE DE NOTAS\\n4. SALIR\")\n",
        "  opreport = int(input('\\nSelecciona una opcion entre [1-4] : '))\n",
        "\n",
        "  if opreport == 1:\n",
        "    print(\"\\nCODIGO\\tCREDITO\\tCURSO\")\n",
        "    print(\"========================\")\n",
        "    for i in range(ncursos):\n",
        "      print(f'{codcur[i]} \\t{credcur[i]}\\t{cursos[i]}')\n",
        "\n",
        "\n"
      ],
      "metadata": {
        "colab": {
          "base_uri": "https://localhost:8080/"
        },
        "id": "k4Gr0sq3u8EA",
        "outputId": "496e7aab-b668-4bf6-a26f-1aad3d2d184b"
      },
      "execution_count": null,
      "outputs": [
        {
          "output_type": "stream",
          "name": "stdout",
          "text": [
            "MENU PRINCIPAL\n",
            "===============\n",
            "\n",
            "1. CURSOS\n",
            "2. ALUMNOS\n",
            "3. NOTAS\n",
            "4. REPORTES\n",
            "5. SALIR\n",
            "\n",
            "Selecciona una opcion entre [1-5] : 4\n",
            "\n",
            "MENU REPORTE\n",
            "===============\n",
            "\n",
            "1. GENERAR REPORTE DE CURSOS\n",
            "2. GENERAR REPORTE DE ALUMNOS\n",
            "3. GENERAR REPORTE DE NOTAS\n",
            "4. SALIR\n",
            "\n",
            "Selecciona una opcion entre [1-4] : 1\n",
            "\n",
            "CODIGO\tCREDITO\tCURSO\n",
            "========================\n",
            "C001 \t5\tPython Avanzado\n",
            "C002 \t5\tC#\n",
            "C003 \t5\tServidores\n",
            "C004 \t3\tProgramacion Lineal\n",
            "C005 \t3\tInferencia Estadistica\n",
            "C006 \t4\tJava\n",
            "C007 \t5\tSQL Server\n"
          ]
        }
      ]
    }
  ]
}